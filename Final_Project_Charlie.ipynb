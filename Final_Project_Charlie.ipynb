{
  "nbformat": 4,
  "nbformat_minor": 0,
  "metadata": {
    "colab": {
      "name": "Final_Project_Charlie.ipynb",
      "provenance": [],
      "collapsed_sections": [],
      "authorship_tag": "ABX9TyMjP8adZ33xJoJPNB7+lcdz",
      "include_colab_link": true
    },
    "kernelspec": {
      "name": "python3",
      "display_name": "Python 3"
    }
  },
  "cells": [
    {
      "cell_type": "markdown",
      "metadata": {
        "id": "view-in-github",
        "colab_type": "text"
      },
      "source": [
        "<a href=\"https://colab.research.google.com/github/wcharlesknight/Analysis_Index_Asset_Flows/blob/master/Final_Project_Charlie.ipynb\" target=\"_parent\"><img src=\"https://colab.research.google.com/assets/colab-badge.svg\" alt=\"Open In Colab\"/></a>"
      ]
    },
    {
      "cell_type": "code",
      "metadata": {
        "id": "t4OUV5xKHVYt",
        "colab_type": "code",
        "colab": {
          "base_uri": "https://localhost:8080/",
          "height": 68
        },
        "outputId": "61982f7a-5752-477d-beef-1841abbd12b8"
      },
      "source": [
        "import pandas as pd\n",
        "import os\n",
        "import decimal\n",
        "import numpy as np\n",
        "\n",
        "\n",
        "\n",
        "df = pd.read_excel('Final Project.xlsx')\n",
        "df['US Fixed Income'] = df['US Fixed Income'].apply(lambda x: x*100) #To turn all decimals into whole percentages\n",
        "df['US Equity'] = df['US Equity'].apply(lambda x: x*100)\n",
        "df['EU Equity'] = df['EU Equity'].apply(lambda x: x*100)\n",
        "df['EU Fixed Income'] = df['EU Fixed Income'].apply(lambda x: x*100)\n",
        "df['China Equity'] = df['China Equity'].apply(lambda x: x*100)\n",
        "df['China Fixed Income'] = df['China Fixed Income'].apply(lambda x: x*100)\n",
        "df['MSCI ACWI'] = df['MSCI ACWI'].apply(lambda x: x*100)\n",
        "df['Bloomberg Agg'] = df['Bloomberg Agg'].apply(lambda x: x*100)\n",
        "df['MSCI Euro '] = df['MSCI Euro '].apply(lambda x: x*100)\n",
        "df['MSCI China  '] = df['MSCI China'].apply(lambda x: x*100)\n",
        "df['S&P 500'] = df['S&P 500'].apply(lambda x: x*100)\n",
        "\n",
        "cumulative_usequity_flows = df['US Equity']\n",
        "world_stock_index = df['MSCI ACWI']\n",
        "fixed_income_index = df['Bloomberg Agg']\n",
        "us_index = df['S&P 500']\n",
        "us_flows = df['US Equity']\n",
        "max_stock_return = world_stock_index.max()\n",
        "\n",
        "china_equity_flows = df['China Equity']\n",
        "\n",
        "cumulative_chinaequity = china_equity_flows.sum()\n",
        "cumulative_usequity_flows = us_flows.sum() #Sum of all flows since 2005\n",
        "\n",
        "print(cumulative_usequity_flows)\n",
        "print(cumulative_chinaequity)\n",
        "# print(df['MSCI Euro '])\n",
        "\n",
        "# print(max_stock_return)\n",
        "\n",
        "# print(df)"
      ],
      "execution_count": 53,
      "outputs": [
        {
          "output_type": "stream",
          "text": [
            "['.config', 'Index.xlsx', 'IndexData.csv', 'Final Project.xlsx', '.ipynb_checkpoints', 'sample_data']\n",
            "-45.16148012873901\n",
            "110.4553795978673\n"
          ],
          "name": "stdout"
        }
      ]
    },
    {
      "cell_type": "code",
      "metadata": {
        "id": "ZqJF_LiFatK_",
        "colab_type": "code",
        "colab": {}
      },
      "source": [
        ""
      ],
      "execution_count": 0,
      "outputs": []
    }
  ]
}